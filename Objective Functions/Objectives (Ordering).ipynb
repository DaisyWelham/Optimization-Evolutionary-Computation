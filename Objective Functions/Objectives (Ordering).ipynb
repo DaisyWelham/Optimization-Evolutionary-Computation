{
 "cells": [
  {
   "cell_type": "markdown",
   "id": "1838e5e1-b6bc-4968-9e80-4da5a5587ff9",
   "metadata": {},
   "source": [
    "# Objectives"
   ]
  },
  {
   "cell_type": "markdown",
   "id": "78bfee14-749c-44fc-bd52-b62357e5550b",
   "metadata": {},
   "source": [
    "Some problems involve rearranging a fixed set of objects. Any such problems go here."
   ]
  },
  {
   "cell_type": "code",
   "execution_count": 1,
   "id": "237a4b92-7b3e-436e-a6b0-874a75b31033",
   "metadata": {},
   "outputs": [],
   "source": [
    "import random as r\n",
    "import numpy as np"
   ]
  },
  {
   "cell_type": "markdown",
   "id": "60d36ed5-dca7-4782-a743-076d38f4aa6c",
   "metadata": {},
   "source": [
    "## Random Search"
   ]
  },
  {
   "cell_type": "code",
   "execution_count": 2,
   "id": "237cb494-d491-4c57-8eb9-3781c76287b3",
   "metadata": {},
   "outputs": [],
   "source": [
    "class RandomSearch:\n",
    "    def __init__(\n",
    "        self,\n",
    "        N\n",
    "    ):\n",
    "        self.N = N\n",
    "        \n",
    "    def generateRandomHypothesis(self):\n",
    "        output = [c for c in range(self.N)]\n",
    "        r.shuffle(output)\n",
    "        return(output)\n",
    "    \n",
    "    def optimize(self,\n",
    "                objectiveFunction,\n",
    "                numIterations = 25000):\n",
    "        bestX = None\n",
    "        bestY = -float(\"inf\")\n",
    "        for i in range(numIterations):\n",
    "            newX = self.generateRandomHypothesis()\n",
    "            newY = objectiveFunction(newX)\n",
    "            if newY > bestY:\n",
    "                bestX = newX\n",
    "                bestY = newY\n",
    "        return(bestX)"
   ]
  },
  {
   "cell_type": "markdown",
   "id": "65c724d8-8719-40c5-a0ae-ef6098971083",
   "metadata": {},
   "source": [
    "## Dinner Table Problem"
   ]
  },
  {
   "cell_type": "markdown",
   "id": "2f0c81aa-4466-4b27-bb9a-28c7a878ff51",
   "metadata": {},
   "source": [
    "Suppose you have N coworkers and a matrix where the ijth element tells you how much person i likes person j. Then, we must seat all these people around a circular table. So the utility of the ordering is the sum of the matrix values for adjacent people."
   ]
  },
  {
   "cell_type": "code",
   "execution_count": 3,
   "id": "57e3438e-cac6-4d9d-b224-e0479f912bd7",
   "metadata": {},
   "outputs": [
    {
     "name": "stdout",
     "output_type": "stream",
     "text": [
      "[[ -3   7   5  -6   6   1   6   7  10   3  -6  -6   1   4  -6]\n",
      " [ -5   1  -7   5   3   2   1   8   8   0   8  -2  -9  -8   0]\n",
      " [ -6  10  -9  -3   6  -5  10 -10  -3  -2  -5   6 -10   6   9]\n",
      " [  0   4  -6   3  -7  -3   1   5  -4   7  -6   2  -5  -8  -3]\n",
      " [ -4   9  -1   0  -9   2  -3   6   0   7  -6  -5  -8  10  10]\n",
      " [  6   6  -6   0   0  -6   3  -7  -9   0  -1   0  -1  10   5]\n",
      " [-10   2   7  -3   2  -1   4   6  -3   2  -1  -8  -2  -6   4]\n",
      " [ -9  -3  -2   8  -6  -5   0   2   5  10  10   6   8   9  -5]\n",
      " [ -9   7  -5  -3   1   9   6  -1  -9  -4   1  -7  -8  10   2]\n",
      " [ -9   3   2   5  10  -8  -2  -6 -10  -3   8   3   8   7   2]\n",
      " [  5   4   0  -8 -10  -4 -10  -2   0   0   9  -5 -10  -3   5]\n",
      " [  5  -4  10   7   7  -9   8  -9   2   1   0  -4   6  -7  -4]\n",
      " [  8  -4  -5   5  -8  -4  -5   5   5  -7   4   3   9   6  -6]\n",
      " [  5   6   1  -4  -1  -4   7  -5  -2   2  -6   3  -2  -2   2]\n",
      " [ -7 -10  -7   3   4  -2  -6   5  10   7   4   1  -9  -6  -2]]\n",
      "Chosen arrangement: [8, 1, 4, 14, 2, 6, 9, 3, 12, 7, 0, 5, 13, 11, 10]\n",
      "Average friendliness in arrangement 4.933333333333334\n"
     ]
    }
   ],
   "source": [
    "N = 15\n",
    "friendshipMatrix = np.random.randint(-10, 11, size = (N, N))\n",
    "print(friendshipMatrix)\n",
    "\n",
    "def seatingValue(x):\n",
    "    output = friendshipMatrix[0][-1] + friendshipMatrix[-1][0]\n",
    "    output += sum(friendshipMatrix[x[i]][x[i + 1]] + friendshipMatrix[x[i + 1]][x[i]] for i in range(len(x) - 1))\n",
    "    return(output)\n",
    "\n",
    "rs = RandomSearch(N)\n",
    "arrangement = rs.optimize(seatingValue, numIterations = 10 ** 3)\n",
    "print(\"Chosen arrangement:\", arrangement)\n",
    "print(\"Average friendliness in arrangement\", seatingValue(arrangement) / N)"
   ]
  }
 ],
 "metadata": {
  "kernelspec": {
   "display_name": "Python 3 (ipykernel)",
   "language": "python",
   "name": "python3"
  },
  "language_info": {
   "codemirror_mode": {
    "name": "ipython",
    "version": 3
   },
   "file_extension": ".py",
   "mimetype": "text/x-python",
   "name": "python",
   "nbconvert_exporter": "python",
   "pygments_lexer": "ipython3",
   "version": "3.10.16"
  }
 },
 "nbformat": 4,
 "nbformat_minor": 5
}
