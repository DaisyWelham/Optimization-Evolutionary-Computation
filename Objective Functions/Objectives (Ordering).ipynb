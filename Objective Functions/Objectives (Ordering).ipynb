{
 "cells": [
  {
   "cell_type": "markdown",
   "id": "1838e5e1-b6bc-4968-9e80-4da5a5587ff9",
   "metadata": {},
   "source": [
    "# Objectives"
   ]
  },
  {
   "cell_type": "markdown",
   "id": "78bfee14-749c-44fc-bd52-b62357e5550b",
   "metadata": {},
   "source": [
    "Some problems involve rearranging a fixed set of objects. Any such problems go here. We include random search as a b"
   ]
  },
  {
   "cell_type": "code",
   "execution_count": 1,
   "id": "237a4b92-7b3e-436e-a6b0-874a75b31033",
   "metadata": {},
   "outputs": [],
   "source": [
    "import random as r\n",
    "import numpy as np\n",
    "import matplotlib.pyplot as plt\n",
    "from math import hypot\n",
    "from tqdm import tqdm"
   ]
  },
  {
   "cell_type": "markdown",
   "id": "60d36ed5-dca7-4782-a743-076d38f4aa6c",
   "metadata": {},
   "source": [
    "## Random Search"
   ]
  },
  {
   "cell_type": "code",
   "execution_count": 2,
   "id": "237cb494-d491-4c57-8eb9-3781c76287b3",
   "metadata": {},
   "outputs": [],
   "source": [
    "class RandomSearch:\n",
    "    def __init__(\n",
    "        self,\n",
    "        N\n",
    "    ):\n",
    "        self.N = N\n",
    "        \n",
    "    def generateRandomHypothesis(self):\n",
    "        output = [c for c in range(self.N)]\n",
    "        r.shuffle(output)\n",
    "        return(output)\n",
    "    \n",
    "    def optimize(self,\n",
    "                objectiveFunction,\n",
    "                numIterations = 25000):\n",
    "        bestX = None\n",
    "        bestY = -float(\"inf\")\n",
    "        for i in range(numIterations):\n",
    "            newX = self.generateRandomHypothesis()\n",
    "            newY = objectiveFunction(newX)\n",
    "            if newY > bestY:\n",
    "                bestX = newX\n",
    "                bestY = newY\n",
    "        return(bestX)"
   ]
  },
  {
   "cell_type": "markdown",
   "id": "22be3ce8-01fb-4632-afb2-b088a60e8e0b",
   "metadata": {},
   "source": [
    "## Asexual Genertic Algorithm (Ordering)"
   ]
  },
  {
   "cell_type": "markdown",
   "id": "a5292e77-4fa1-46e2-9776-29b668b81a6e",
   "metadata": {},
   "source": [
    "A lot of ordering problems have very poor big-O, meaning that random search is unlikely to perform well for large N. The asexual genertic algorithm is a very simple algorithm that lets us achieve more rapid improvement for less compute for many kinds of problems."
   ]
  },
  {
   "cell_type": "code",
   "execution_count": 3,
   "id": "8a670e40-43a7-4481-8415-de5d402b5905",
   "metadata": {},
   "outputs": [],
   "source": [
    "class AsexualGeneticAlgorithm:\n",
    "    def __init__(\n",
    "        self,\n",
    "        N,\n",
    "        objectiveFunction,\n",
    "        populationSize = 25,\n",
    "        mutationMax = 4\n",
    "    ):\n",
    "        self.N = N\n",
    "        self.populationSize = populationSize\n",
    "        self.objectiveFunction = objectiveFunction\n",
    "        self.mutationMax = mutationMax\n",
    "        \n",
    "    def generateRandomHypothesis(self):\n",
    "        output = [c for c in range(self.N)]\n",
    "        r.shuffle(output)\n",
    "        return(output)\n",
    "\n",
    "    def generateInitialPopulation(self):\n",
    "        genome = [self.generateRandomHypothesis() for c in range(self.populationSize)]\n",
    "        return([[genes, self.objectiveFunction(genes)] for genes in genome])\n",
    "\n",
    "    def mutateOnce(self, genes):\n",
    "        i = r.randint(0, len(genes) - 1)\n",
    "        j = r.randint(0, len(genes) - 1)\n",
    "        while i == j:\n",
    "            j = r.randint(0, len(genes) - 1)\n",
    "        geneI = genes[i]\n",
    "        geneJ = genes[j]\n",
    "        output = genes\n",
    "        output[i] = geneJ\n",
    "        output[j] = geneI\n",
    "        return(output)\n",
    "\n",
    "    def mutateFully(self, genes):\n",
    "        output = [gene for gene in genes]\n",
    "        for i in range(r.randint(1, self.mutationMax)):\n",
    "            output = self.mutateOnce(output)\n",
    "        return([output, self.objectiveFunction(output)])\n",
    "    \n",
    "    def optimize(self, numIterations = 2500):\n",
    "        population = self.generateInitialPopulation()\n",
    "        bestX = None\n",
    "        bestY = -float(\"inf\")\n",
    "        for individual in population:\n",
    "            if individual[1] > bestY:\n",
    "                bestY = individual[1]\n",
    "                bestX = individual[0]\n",
    "        for i in tqdm(range(numIterations)):\n",
    "            reproducingIndividual = r.choice(population)\n",
    "            newIndividual = self.mutateFully(reproducingIndividual[0])\n",
    "            stoppingCondition = False\n",
    "            j = 0\n",
    "            while not stoppingCondition:\n",
    "                if population[j][1] < newIndividual[1]:\n",
    "                    population[j] = newIndividual\n",
    "                    stoppingCondition = True\n",
    "                    if newIndividual[1] > bestY:\n",
    "                        bestY = newIndividual[1]\n",
    "                        bestX = newIndividual[0]\n",
    "                else:\n",
    "                    j += 1\n",
    "                    if j == len(population):\n",
    "                        stoppingCondition = True\n",
    "        return(bestX)"
   ]
  },
  {
   "cell_type": "markdown",
   "id": "80eb692f-9c51-4627-899e-2a142938bac3",
   "metadata": {},
   "source": [
    "## Travelling Salesman"
   ]
  },
  {
   "cell_type": "markdown",
   "id": "41d8adce-f4c9-46a9-a9ec-b5c6e92b6263",
   "metadata": {},
   "source": [
    "A classic of optimization, the challenge is this: we have N towns in (-R, R), and must travel to all of the towns starting from any town we choose, and return to our starting town. What is the most efficient order to travel through all the towns such that we minimize our total distance travelled?"
   ]
  },
  {
   "cell_type": "code",
   "execution_count": 4,
   "id": "d3e1978a-c2be-422d-9617-a5595cc2eb20",
   "metadata": {},
   "outputs": [
    {
     "name": "stdout",
     "output_type": "stream",
     "text": [
      "Town: 0 [4.773802447251736, 8.8796353149625]\n",
      "Town: 1 [6.979783505571742, 5.6601507060883005]\n",
      "Town: 2 [5.494373595931757, -7.567115249873144]\n",
      "Town: 3 [-0.09461278678247709, 3.5950627866892404]\n",
      "Town: 4 [7.039131682335334, -7.387587506890645]\n",
      "Town: 5 [2.3976954055981423, 9.918538827967378]\n",
      "Town: 6 [-9.69984041101322, -8.311485884270285]\n",
      "Town: 7 [-3.4499312935580324, -6.276027863857935]\n",
      "Town: 8 [-1.7771757730286915, 4.209449368145661]\n",
      "Town: 9 [3.37298703580168, 7.480563948142361]\n"
     ]
    },
    {
     "name": "stderr",
     "output_type": "stream",
     "text": [
      "100%|████████████████████████████████████████████████████████████████████████████████████████████████████████████████████████| 1000/1000 [00:00<00:00, 52805.04it/s]"
     ]
    },
    {
     "name": "stdout",
     "output_type": "stream",
     "text": [
      "Path: [7, 6, 8, 3, 9, 0, 5, 1, 4, 2] Total Distance Travelled: 62.85752200825109\n"
     ]
    },
    {
     "name": "stderr",
     "output_type": "stream",
     "text": [
      "\n"
     ]
    },
    {
     "data": {
      "image/png": "[encoded data removed]",
      "text/plain": [
       "<Figure size 640x480 with 1 Axes>"
      ]
     },
     "metadata": {},
     "output_type": "display_data"
    }
   ],
   "source": [
    "N = 10\n",
    "R = 10\n",
    "\n",
    "def travellingSalesmanSetup(N):\n",
    "    return([[r.uniform(-R, R), r.uniform(-R, R)] for c in range(N)])\n",
    "\n",
    "towns = travellingSalesmanSetup(N)\n",
    "for i in range(N):\n",
    "    print(\"Town:\", str(i), towns[i])\n",
    "import matplotlib.pyplot as plt\n",
    "for i in range(len(towns)):\n",
    "    town = towns[i]\n",
    "    plt.scatter(town[0], town[1], label = i)\n",
    "plt.legend()\n",
    "\n",
    "def salesmanReward(x):\n",
    "    d = 0\n",
    "    for i in range(len(x)):\n",
    "        a = towns[x[i]]\n",
    "        b = towns[x[(i + 1) % len(x)]]\n",
    "        d += hypot(b[0] - a[0], b[1] - a[1])\n",
    "    return(-d)\n",
    "\n",
    "asg = AsexualGeneticAlgorithm(N, salesmanReward, mutationMax = 2)\n",
    "path = asg.optimize(numIterations = 10 ** 3)\n",
    "print(\"Path:\", path, \"Total Distance Travelled:\", -salesmanReward(path))\n",
    "xs = [towns[i][0] for i in path] + [towns[path[0]][0]]\n",
    "ys = [towns[i][1] for i in path] + [towns[path[0]][1]]\n",
    "plt.plot(xs, ys)\n",
    "plt.show()"
   ]
  },
  {
   "cell_type": "markdown",
   "id": "65c724d8-8719-40c5-a0ae-ef6098971083",
   "metadata": {},
   "source": [
    "## Dinner Table Problem"
   ]
  },
  {
   "cell_type": "markdown",
   "id": "71119197-5907-40ae-bc09-9b6556babf9e",
   "metadata": {},
   "source": [
    "Suppose you have N coworkers and a matrix where the ijth element tells you how much person i likes person j. Then, we must seat all these people around a circular table. So the utility of the ordering is the sum of the matrix values for adjacent people."
   ]
  },
  {
   "cell_type": "code",
   "execution_count": 5,
   "id": "57e3438e-cac6-4d9d-b224-e0479f912bd7",
   "metadata": {},
   "outputs": [
    {
     "name": "stdout",
     "output_type": "stream",
     "text": [
      "[[  4  -2   1   2   9   1  -6   7   8   7 -10  -4   2 -10   8]\n",
      " [ -3  -8   8   1   2   1  -4   7   5   5   9   4   8  -7   5]\n",
      " [ -3   1  -6  -6   6   6  -4   9  10 -10   0  -1   9  -4   3]\n",
      " [ -1   7  -3  -8   1  -1  -9   3   9   8  -5  -5  -4   5  -6]\n",
      " [ -5 -10  -9   3   6  -6  -4  -1   7   1   8   2   3   3  -4]\n",
      " [ -8  -4  -5 -10   2  -1   8  -1  -4   2   4   7   8 -10  -1]\n",
      " [  9  -1   4   6   5   9   8 -10   7 -10   0  -3   7   6   4]\n",
      " [  4  -5  -6   9  -2 -10   3   1   8  -2   1   6   3   8  -1]\n",
      " [ -2  -5  -4  10  -1   9  -3   3  10  -8   9  -4   1  -2  -4]\n",
      " [  4  -3  -4   7   4   8  10   5  -2  -7   6   5  -8  -9   7]\n",
      " [ -9  -5  -1   7  -9  10   9  -9   7  -4  -1   8  -9  10   4]\n",
      " [  9   8 -10 -10   5   3 -10  -9  10  -2  -7  -9  -2   5   9]\n",
      " [ -5  -9   3 -10  -3  -9   5  -4  -6   3   2  -4   3  -2 -10]\n",
      " [-10   0   3   8  -6   1   8   8   5 -10   6  -2  -1  -9   1]\n",
      " [  5   5   6   0   0  -5  -4  -9   2  10   7  -2   8  -1   7]]\n"
     ]
    },
    {
     "name": "stderr",
     "output_type": "stream",
     "text": [
      "100%|████████████████████████████████████████████████████████████████████████████████████████████████████████████████████████| 1000/1000 [00:00<00:00, 35418.58it/s]"
     ]
    },
    {
     "name": "stdout",
     "output_type": "stream",
     "text": [
      "Chosen arrangement: [8, 11, 1, 2, 12, 0, 7, 13, 6, 4, 5, 10, 14, 9, 3]\n",
      "Average friendliness in arrangement 10.0\n"
     ]
    },
    {
     "name": "stderr",
     "output_type": "stream",
     "text": [
      "\n"
     ]
    }
   ],
   "source": [
    "N = 15\n",
    "friendshipMatrix = np.random.randint(-10, 11, size = (N, N))\n",
    "print(friendshipMatrix)\n",
    "\n",
    "def seatingValue(x):\n",
    "    output = friendshipMatrix[x[0]][x[-1]] + friendshipMatrix[x[-1]][x[0]]\n",
    "    output += sum(friendshipMatrix[x[i]][x[i + 1]] + friendshipMatrix[x[i + 1]][x[i]] for i in range(len(x) - 1))\n",
    "    return(output)\n",
    "\n",
    "asg = AsexualGeneticAlgorithm(N, seatingValue, mutationMax = 2)\n",
    "\n",
    "rs = RandomSearch(N)\n",
    "arrangement = asg.optimize(numIterations = 10 ** 3)\n",
    "print(\"Chosen arrangement:\", arrangement)\n",
    "print(\"Average friendliness in arrangement\", seatingValue(arrangement) / N)"
   ]
  },
  {
   "cell_type": "code",
   "execution_count": null,
   "id": "2fdd8ac4-bdce-48e2-9252-a97de44cd5e6",
   "metadata": {},
   "outputs": [],
   "source": []
  }
 ],
 "metadata": {
  "kernelspec": {
   "display_name": "Python 3 (ipykernel)",
   "language": "python",
   "name": "python3"
  },
  "language_info": {
   "codemirror_mode": {
    "name": "ipython",
    "version": 3
   },
   "file_extension": ".py",
   "mimetype": "text/x-python",
   "name": "python",
   "nbconvert_exporter": "python",
   "pygments_lexer": "ipython3",
   "version": "3.10.16"
  }
 },
 "nbformat": 4,
 "nbformat_minor": 5
}
