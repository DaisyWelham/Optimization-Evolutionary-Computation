{
 "cells": [
  {
   "cell_type": "markdown",
   "id": "590b0ebb-cce8-4eab-94e5-9b555ff45f1a",
   "metadata": {},
   "source": [
    "Many optimization algorithms rely on gradients or some kind of feedback mechanisms, but not all problems give this. Imagine we're looking for pirate treasure buried under a big \"X\" on a massive empty beach, our reward is effectively 1 if we can see the X, 0 otherwise. We define a map size, X location, and visibility radius. The goal is to find X in as few iterations as possible."
   ]
  },
  {
   "cell_type": "code",
   "execution_count": 1,
   "id": "88451567-60c6-434c-bb71-06aa713ae053",
   "metadata": {},
   "outputs": [],
   "source": [
    "import random as r\n",
    "r.seed(1)"
   ]
  },
  {
   "cell_type": "code",
   "execution_count": 9,
   "id": "43121bde-72ee-4f7c-8eaf-c9c26c0880c1",
   "metadata": {},
   "outputs": [
    {
     "name": "stdout",
     "output_type": "stream",
     "text": [
      "Location found[-7.365928154724827, 4.502790407551277]. Reward: 1\n"
     ]
    }
   ],
   "source": [
    "def xMark(hypothesis, visibilityRadius = 0.5, treasureLocation = [-7.1, 4.5]):\n",
    "    dist = 0\n",
    "    for i in range(2):\n",
    "        dist += (hypothesis[i] - treasureLocation[i]) ** 2\n",
    "    return(1 if dist < visibilityRadius ** 2 else 0)\n",
    "\n",
    "class RandomSearch:\n",
    "    def __init__(\n",
    "        self,\n",
    "        ranges\n",
    "    ):\n",
    "        self.ranges = ranges\n",
    "        \n",
    "    def generateRandomHypothesis(self):\n",
    "        output = []\n",
    "        for x in self.ranges:\n",
    "            output.append(r.uniform(x[0], x[1]))\n",
    "        return(output)\n",
    "    \n",
    "    def optimize(self,\n",
    "                objectiveFunction,\n",
    "                numIterations = 5000):\n",
    "        bestX = None\n",
    "        bestY = -float(\"inf\")\n",
    "        for i in range(numIterations):\n",
    "            newX = self.generateRandomHypothesis()\n",
    "            newY = objectiveFunction(newX)\n",
    "            if newY > bestY:\n",
    "                bestX = newX\n",
    "                bestY = newY\n",
    "        return(bestX)\n",
    "rs = RandomSearch([[-25, 25], [-25, 25]])\n",
    "loc = rs.optimize(xMark)\n",
    "print(f\"Location found{loc}. Reward: {xMark(loc)}\")"
   ]
  },
  {
   "cell_type": "markdown",
   "id": "83605c72-c4b6-4b33-bf7e-4726af5caeb9",
   "metadata": {},
   "source": [
    "5,000 iterations is often enough to find X with search radius 0.5 and a beach that's 50 x 50. But if we know our visibility radius, can we do better?"
   ]
  }
 ],
 "metadata": {
  "kernelspec": {
   "display_name": "Python 3 (ipykernel)",
   "language": "python",
   "name": "python3"
  },
  "language_info": {
   "codemirror_mode": {
    "name": "ipython",
    "version": 3
   },
   "file_extension": ".py",
   "mimetype": "text/x-python",
   "name": "python",
   "nbconvert_exporter": "python",
   "pygments_lexer": "ipython3",
   "version": "3.10.16"
  }
 },
 "nbformat": 4,
 "nbformat_minor": 5
}
