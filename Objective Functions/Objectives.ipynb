{
 "cells": [
  {
   "cell_type": "markdown",
   "id": "1838e5e1-b6bc-4968-9e80-4da5a5587ff9",
   "metadata": {},
   "source": [
    "# Objectives"
   ]
  },
  {
   "cell_type": "markdown",
   "id": "78bfee14-749c-44fc-bd52-b62357e5550b",
   "metadata": {},
   "source": [
    "In this notebook I code various objective functions, and explain why each function is interesting. I also include a random search algorithm to test on each function."
   ]
  },
  {
   "cell_type": "code",
   "execution_count": 1,
   "id": "237a4b92-7b3e-436e-a6b0-874a75b31033",
   "metadata": {},
   "outputs": [],
   "source": [
    "import random as r\n",
    "import numpy as np"
   ]
  },
  {
   "cell_type": "markdown",
   "id": "60d36ed5-dca7-4782-a743-076d38f4aa6c",
   "metadata": {},
   "source": [
    "## Random Search"
   ]
  },
  {
   "cell_type": "code",
   "execution_count": 2,
   "id": "237cb494-d491-4c57-8eb9-3781c76287b3",
   "metadata": {},
   "outputs": [],
   "source": [
    "class RandomSearch:\n",
    "    def __init__(\n",
    "        self,\n",
    "        ranges\n",
    "    ):\n",
    "        self.ranges = ranges\n",
    "        \n",
    "    def generateRandomHypothesis(self):\n",
    "        output = []\n",
    "        for x in self.ranges:\n",
    "            output.append(r.uniform(x[0], x[1]))\n",
    "        return(output)\n",
    "    \n",
    "    def optimize(self,\n",
    "                objectiveFunction,\n",
    "                numIterations = 25000):\n",
    "        bestX = None\n",
    "        bestY = -float(\"inf\")\n",
    "        for i in range(numIterations):\n",
    "            newX = self.generateRandomHypothesis()\n",
    "            newY = objectiveFunction(newX)\n",
    "            if newY > bestY:\n",
    "                bestX = newX\n",
    "                bestY = newY\n",
    "        return(bestX)"
   ]
  },
  {
   "cell_type": "markdown",
   "id": "65c724d8-8719-40c5-a0ae-ef6098971083",
   "metadata": {},
   "source": [
    "## Physics Problems"
   ]
  },
  {
   "cell_type": "markdown",
   "id": "54771aee-3560-499c-8164-130e95ca8416",
   "metadata": {},
   "source": [
    "### Drag Minimization "
   ]
  },
  {
   "cell_type": "markdown",
   "id": "dba464db-e6dc-42e9-b1c6-0753d7e75fac",
   "metadata": {},
   "source": [
    "The drag per second a vehicle travelling on a road experiences is approximately R(v) = Av^2 + Bv + C where A is a factor relating aerodynamics, B to rolling and drivetrain losses, and C is a constant load. If t is the time taken to arrive at a destination D, minimizing t x R will minimize the losses due to drag for the journey. Since v = D/t and D is constant this is equivalent to minimizing R/v, i.e. Av + B + C/v. \n",
    "\n",
    "Suppose we have a car with A = 0.6, B = 5, C = 80, we have a well-defined optimization problem. It's fun to play around with A/B/C and see how different physical parameters affect the optimum speed. most cars travel ~30mph most of the time, so we expect an answer near 13m/s"
   ]
  },
  {
   "cell_type": "code",
   "execution_count": 3,
   "id": "9fe7d5f4-9f4b-47b4-b0b6-ded65e25af59",
   "metadata": {},
   "outputs": [],
   "source": [
    "def dragMinimization(\n",
    "    hypothesis,\n",
    "    aerodynamicsConstant = 0.6,\n",
    "    rollingConstant = 5,\n",
    "    loadConstant = 80\n",
    "):\n",
    "    v = hypothesis[0]\n",
    "    aTerm = aerodynamicsConstant * v \n",
    "    bTerm = rollingConstant\n",
    "    cTerm = loadConstant / v\n",
    "    output = - (aTerm + bTerm + cTerm)\n",
    "    return(output)"
   ]
  },
  {
   "cell_type": "code",
   "execution_count": 4,
   "id": "06cde57b-7698-4315-b76f-451a8720f62e",
   "metadata": {},
   "outputs": [
    {
     "name": "stdout",
     "output_type": "stream",
     "text": [
      "[11.544763078741893]\n"
     ]
    }
   ],
   "source": [
    "rs = RandomSearch([[0, 50]])\n",
    "print(rs.optimize(dragMinimization))"
   ]
  },
  {
   "cell_type": "markdown",
   "id": "11c72810-a612-435a-bf57-46879063b48a",
   "metadata": {},
   "source": [
    "### Semi-Empirical Masss Formula (SEMF)"
   ]
  },
  {
   "cell_type": "markdown",
   "id": "33a49fcb-6181-4db3-a76a-b49cce0f6d2f",
   "metadata": {},
   "source": [
    "Below is the semi-empirical mass formula. It's a formula from physics which gives us the binding energy of a nucleus given its proton number, Z, and neutron number, N. Since physics is effectively trying to maximise the binding energy per nucleon, we have a fun optimization problem if we divide the energy predicted by the SEMF by Z + N. You can play around with physics and see which isotopes would be stable if you changed, say, the Coulomb term! \n",
    "\n",
    "SEMF is also useful since it has a known best result of Nickel-62: Z = 28, N = 34. The closer the output is to this, the better our algorithm is doing. Another very stable isotope is Iron-56: Z = 26, N = 30, so if we get a result close to this the algorithm has done well, too.\n",
    "\n",
    "More about the SEMF here: https://en.wikipedia.org/wiki/Semi-empirical_mass_formula"
   ]
  },
  {
   "cell_type": "code",
   "execution_count": 5,
   "id": "0cda7006-1a8a-4f09-b05b-fc87e6651587",
   "metadata": {},
   "outputs": [
    {
     "name": "stdout",
     "output_type": "stream",
     "text": [
      "[26.928342728405557, 32.47247324528793]\n"
     ]
    }
   ],
   "source": [
    "def SEMF(\n",
    "    hypothesis, \n",
    "    volumeConstant = 15.8,\n",
    "    surfaceConstant = 17.8,\n",
    "    coulombConstant = 0.711,\n",
    "    asymmetryConstant = 23.7,\n",
    "    pairingConstant = 11.18\n",
    "):\n",
    "    \n",
    "    #Physical info from hypothesis\n",
    "    Z = int(hypothesis[0]) #Proton number\n",
    "    N = int(hypothesis[1]) #Neutron number\n",
    "    A = Z + N              #Nucleon number\n",
    "    \n",
    "    #Calculate each term\n",
    "    volumeTerm = volumeConstant * A\n",
    "    surfaceTerm = -surfaceConstant * A ** (2/3)\n",
    "    coulombTerm = -coulombConstant * Z * (Z - 1) * A ** (-1/3)\n",
    "    asymmetryTerm = -asymmetryConstant * ((N - Z) ** 2) / A\n",
    "    \n",
    "    #Pairing term\n",
    "    if A % 2 == 1:\n",
    "        pairingTerm = 0\n",
    "    elif Z % 2 == 0 and N % 2 == 0:\n",
    "        pairingTerm = pairingConstant * A ** (-1/2)\n",
    "    elif Z % 2 == 1 and N % 2 == 1:\n",
    "        pairingTerm = -pairingConstant * A ** (-1/2)\n",
    "    else:\n",
    "        pairingTerm = 0\n",
    "    output = (volumeTerm + surfaceTerm + coulombTerm + asymmetryTerm + pairingTerm) / A\n",
    "    return(output)\n",
    "\n",
    "rs = RandomSearch([[1, 120], [1, 180]])\n",
    "print(rs.optimize(SEMF))"
   ]
  },
  {
   "cell_type": "markdown",
   "id": "3484e1ea-c58d-4f18-8400-d0f8f4cb5c39",
   "metadata": {},
   "source": [
    "## Game Theory Problems"
   ]
  },
  {
   "cell_type": "markdown",
   "id": "a90aabee-ed61-4581-9de3-e9fcfa2d6df8",
   "metadata": {},
   "source": [
    "### El Farol Bar"
   ]
  },
  {
   "cell_type": "markdown",
   "id": "f44aff60-9dac-407e-a24c-f367d473a484",
   "metadata": {},
   "source": [
    "With El Farol Bar, we assume there are several bars in town, say 5. Each bar has a base \"niceness\" value N, and we're antisocial nerds so we prefer bars with fewer people in. Thus the utility we would get for attending each bar is N^-kx where x is the number of other people in the bar and k some decay constant. \n",
    "\n",
    "Classic El Farol asks us to come up with a strategy for which bar to go to given other people are more likely to go to nicer bars, but I prefer to ask what the optimal distribution of people across bars is to maximise their culmulative utility. Thus we maximise the sum of xN^-kx for each N, x. (For convenience, k is constant across all bars).\n",
    "\n",
    "We enforce that the number of people in each bar must be an integer, and the total number of people in all bars is free to vary (some people stay home and write code for GitHub instead)."
   ]
  },
  {
   "cell_type": "code",
   "execution_count": 6,
   "id": "088934fb-945b-4f53-bc99-a4d5304bbab4",
   "metadata": {},
   "outputs": [],
   "source": [
    "barUtilities = [10, 20, 40, 80, 160]\n",
    "decayConstant = 0.5\n",
    "\n",
    "def singleBarUtility(x, barNumber):\n",
    "    output = x * barUtilities[barNumber] ** (-decayConstant * (x - 1))\n",
    "    return(output)\n",
    "\n",
    "def elFarol(hypothesis):\n",
    "    peopleAssignments = [int(x) for x in hypothesis]\n",
    "    output = 0\n",
    "    for i in range(len(barUtilities)):\n",
    "        output += singleBarUtility(peopleAssignments[i], i)\n",
    "    return(output)"
   ]
  },
  {
   "cell_type": "code",
   "execution_count": 7,
   "id": "8499c08e-1d36-40e9-9fb0-de88f64d1e35",
   "metadata": {},
   "outputs": [
    {
     "name": "stdout",
     "output_type": "stream",
     "text": [
      "[3, 1, 8, 1, 1]\n"
     ]
    }
   ],
   "source": [
    "ranges = []\n",
    "for i in range(len(barUtilities)):\n",
    "    ranges.append([0, 50])\n",
    "\n",
    "rs = RandomSearch(ranges)\n",
    "distribution = rs.optimize(elFarol)\n",
    "print([int(x) for x in distribution])"
   ]
  },
  {
   "cell_type": "markdown",
   "id": "7b04b210-b917-4e7f-b574-60d186fbce70",
   "metadata": {},
   "source": [
    "## Cousins Problem"
   ]
  },
  {
   "cell_type": "markdown",
   "id": "a5f77005-21f9-4fad-9901-0e018687adb1",
   "metadata": {},
   "source": [
    "Suppose you are in a room with 100 other people, playing a game with them. You pick a threshold N. If you are exactly Nth cousins with someone, you pay each other nothing. If you are more closely related than Nth cousins, they pay you £100/N. If you are more distantly related than Nth cousins, you pay them £100/N. What is the optimum N to pick to maximise your winnings? We assume cousins are normally distributed about mean X and standard deviation S."
   ]
  },
  {
   "cell_type": "code",
   "execution_count": null,
   "id": "b98ec509-fcd1-4673-b3ba-304ac719f037",
   "metadata": {},
   "outputs": [],
   "source": [
    "X = 15\n",
    "S = 3\n",
    "\n",
    "def generateCousins(numCousins = 100):\n",
    "    output = [int(r.gauss(X, S)) for i in range(numCousins)]\n",
    "    return(output)\n",
    "\n",
    "cousinsList = generateCousins()\n",
    "\n",
    "def cousins(x):\n",
    "    N = int(x[0])\n",
    "    output = sum((100 / N if N > C else (-100 / N if N < C else 0)) for C in cousinsList)\n",
    "    return(output)\n",
    "\n",
    "ranges = [1, 100]\n",
    "\n",
    "rs = RandomSearch(ranges)\n",
    "distribution = rs.optimize(cousins)\n"
   ]
  },
  {
   "cell_type": "markdown",
   "id": "b4aaa1f6-de4e-4934-aa7c-61648dcb90ba",
   "metadata": {},
   "source": [
    "## Maths Problems"
   ]
  },
  {
   "cell_type": "markdown",
   "id": "f77bc800-01be-4e5b-95d9-a0577aeb91c0",
   "metadata": {},
   "source": [
    "### Euler's Conjecture"
   ]
  },
  {
   "cell_type": "markdown",
   "id": "0f0a7db0-1f39-4b85-a866-bdede8b9fb87",
   "metadata": {},
   "source": [
    "Fermat's Last Theorem is that a^k + b^k = c^k has no integer solutions for k > 2. Euler's conjecture is a (now shown to be false) generalisation of this, which asserts that the sum of n terms like a^k has no positive integer solutions for k > n. \n",
    "\n",
    "A counterexample is:-\n",
    "\n",
    "27^5 + 84^5 + 110^5 + 133^5 = 144^5\n",
    "\n",
    "See: https://marktomforde.com/academic/miscellaneous/images/ShortestPaper.pdf\n",
    "\n",
    "The below code constructs an objective function which returns 0 if the proposed solution is a valid counterexample to the Euler conjecture, and an increasingly negative value the further the proposed solution is from holding otherwise. If n >= k it simply returns -1,000,000.\n",
    "\n",
    "It's an interesting objective because it breaks a lot of the assumptions that standard optimization makes. Suppose we have a solution which is only off from being a valid counterexample by 1, that isn't really any better than being off by 100. However, we need some way of quantifying how close a solution came to succesfully disproving Euler. Random search can't generally find good solutions, unless we run it for an extremely long time. So this objective function is a fun challenge for other optimization algorithms."
   ]
  },
  {
   "cell_type": "code",
   "execution_count": 8,
   "id": "d7103b74-ae3c-4fef-9a42-3147b00788b9",
   "metadata": {},
   "outputs": [
    {
     "name": "stdout",
     "output_type": "stream",
     "text": [
      "Solution found:  [5, 144, 27, 84, 110, 133]\n",
      "-0.0\n",
      "Closest answer found by random search for k = 5  is:  [3.831751569333685, 97.26500136608789, 58.33628367366694, 35.05066673950456, 17.18454102515389, 49.38976568863983]\n",
      "Closest answer found by random search for k = 6  is:  [5.173261289138336, 36.48363538712624, 60.48987320799617, 27.66571893155851, 31.066474669776465, 79.52042704274635, 94.58522426174038]\n",
      "Closest answer found by random search for k = 7  is:  [6.184087967296084, 54.215850004673776, 80.2279272234784, 53.74549038359824, 86.8179915110833, 21.47614295838378, 41.41168333054684, 87.52046712098105]\n",
      "Closest answer found by random search for k = 8  is:  [4.57906948403831, 16.342044275513356, 84.45314432617538, 15.51926362203062, 23.747280942405297, 73.97106162770125, 88.56076329422143, 44.74010343335052, 64.72637006549502]\n",
      "Closest answer found by random search for k = 9  is:  [6.545931451676519, 33.04887837835249, 32.821844224805325, 4.78157135179562, 62.33916669457925, 80.34194042910859, 31.796621222888632, 47.30818480932301, 43.41896902492985, 7.170043802986708]\n",
      "Closest answer found by random search for k = 10  is:  [2.3030482171817814, 14.088560381313453, 81.54810736317336, 96.50576068735215, 76.60596690305576, 72.67960117123512, 64.13816458450779, 42.85020534562099, 80.34006926418925, 46.780073997620505, 57.0296075173554]\n",
      "Closest answer found by random search for k = 11  is:  [3.7487790058154644, 91.30857043125911, 52.868570442547124, 39.29282473763619, 46.9117099979619, 79.88567660886915, 94.98357340531952, 5.475650378866013, 37.56808319987856, 25.50923236539089, 59.27251115069676, 13.211528741293831]\n",
      "Closest answer found by random search for k = 12  is:  [2.5895664754574432, 60.650458504464105, 2.7570403674814896, 67.56782913990175, 82.35610698463422, 2.2041285754135185, 26.217070575683458, 42.916444870887446, 89.41902544014305, 54.22610510851352, 65.55305404220525, 32.38393709783965, 55.01357319964586]\n",
      "Closest answer found by random search for k = 13  is:  [8.426797190390376, 57.582727484084515, 33.92405019788033, 61.24789066011302, 26.686771115775787, 21.14513510450542, 29.301859412623667, 91.73772862793265, 8.698957337795422, 73.3709432794629, 65.65864881498781, 8.292896955662883, 30.762491340951524, 69.65842812977323]\n",
      "Closest answer found by random search for k = 14  is:  [7.284477710292897, 32.75853529474461, 66.37494008682263, 86.96384848464838, 12.62883092269807, 96.60121095444379, 7.2990209532644, 70.69130027144959, 2.7768096242751046, 80.71746357257501, 97.06816358292943, 39.38551938417773, 13.15673621935522, 9.658251839265507, 86.88945070056907]\n"
     ]
    }
   ],
   "source": [
    "def EulerConjecture(hypothesis):\n",
    "    k = int(hypothesis[0])\n",
    "    b = int(hypothesis[1])\n",
    "    if len(hypothesis) - 2 >= k:\n",
    "        return(-(10 ** 6))\n",
    "    else: \n",
    "        bases = [int(x) for x in hypothesis[2:]]\n",
    "        output = -np.fabs(float(b ** k - np.sum([base ** k for base in bases])))\n",
    "        if output == 0:\n",
    "            print(\"Solution found: \", hypothesis)\n",
    "        return(output)\n",
    "\n",
    "#Demonstrating that the solution works\n",
    "print(EulerConjecture([5, 144, 27, 84, 110, 133]))\n",
    "\n",
    "#Allowing the length of the hypotheses to vary:\n",
    "for h in range(10):\n",
    "    ranges = [[1, 10]]\n",
    "    for i in range(h + 5):\n",
    "        ranges.append([0, 99])\n",
    "    rs = RandomSearch(ranges)\n",
    "    print(\"Closest answer found by random search for k =\", h + 5, \" is: \", rs.optimize(EulerConjecture))"
   ]
  },
  {
   "cell_type": "markdown",
   "id": "201e9050-0866-4dd6-86e0-d4081087885b",
   "metadata": {},
   "source": [
    "## Polynomial Solver"
   ]
  },
  {
   "cell_type": "markdown",
   "id": "a8d09c2d-b235-422d-ac8a-53142f2a81d3",
   "metadata": {},
   "source": [
    "Here you can input a polynomial in the form P = a + bx + cx^2 + dx^3 ... and the objective function rewards solutions which are closest to P = 0. In general polynomials of order N have at most N real solutions, and optimizing this way finds one of them at random. To find multiple, just run the alogirthm again until the others pop up. The example polynomial has solutions at -1. -2, and -3."
   ]
  },
  {
   "cell_type": "code",
   "execution_count": 39,
   "id": "a608ae2c-550a-4660-8e66-cb6b8a291cbe",
   "metadata": {},
   "outputs": [
    {
     "data": {
      "text/plain": [
       "[-2.999742543935855]"
      ]
     },
     "execution_count": 39,
     "metadata": {},
     "output_type": "execute_result"
    }
   ],
   "source": [
    "def polynomial(hypothesis, terms = [6, 11, 6, 1]):\n",
    "    total = 0\n",
    "    for i in range(len(terms)):\n",
    "        total += terms[i] * (hypothesis[0] ** i)\n",
    "    return(-np.fabs(total))\n",
    "\n",
    "ranges = [[-10, 10]]\n",
    "rs = RandomSearch(ranges)\n",
    "rs.optimize(polynomial)"
   ]
  },
  {
   "cell_type": "markdown",
   "id": "0880954d-496e-468b-b77b-de1a29c1e4a3",
   "metadata": {},
   "source": [
    "## Engineering / Design"
   ]
  },
  {
   "cell_type": "markdown",
   "id": "2db1473d-6153-4927-ada3-bb9e6364cb78",
   "metadata": {},
   "source": [
    "### Drinks Can"
   ]
  },
  {
   "cell_type": "markdown",
   "id": "c90f3d93-831e-4f5a-99b7-206b17afef75",
   "metadata": {},
   "source": [
    "Suppose we want to design a cylindrical drinks can. The volume must be at least 330cm^3, but otherwise we want the smallest possible surface area. We have control over the radius R and the height H, and we find the can which optimizes these constraints. A real can I measured has R = 3.3cm and H = 12cm"
   ]
  },
  {
   "cell_type": "code",
   "execution_count": 53,
   "id": "b6c10bdc-de9a-40fa-ad2c-d01fc678ccb1",
   "metadata": {},
   "outputs": [
    {
     "data": {
      "text/plain": [
       "[3.6990209158576093, 7.675653903582928]"
      ]
     },
     "execution_count": 53,
     "metadata": {},
     "output_type": "execute_result"
    }
   ],
   "source": [
    "def drinksCan(hypothesis):\n",
    "    R = hypothesis[0]\n",
    "    H = hypothesis[1]\n",
    "    A = (2 * np.pi * (R ** 2)) + (2 * np.pi * R * H)\n",
    "    V = (np.pi * (R ** 2)) * H\n",
    "    volumeTerm = min(V - 330, 0)\n",
    "    return(volumeTerm - A)\n",
    "\n",
    "ranges = [[0, 20], [0, 20]]\n",
    "rs = RandomSearch(ranges)\n",
    "rs.optimize(drinksCan, 10 ** 6)"
   ]
  },
  {
   "cell_type": "code",
   "execution_count": null,
   "id": "8893536e-cc85-43e2-91df-a15ed1f6ae5d",
   "metadata": {},
   "outputs": [],
   "source": []
  }
 ],
 "metadata": {
  "kernelspec": {
   "display_name": "Python 3 (ipykernel)",
   "language": "python",
   "name": "python3"
  },
  "language_info": {
   "codemirror_mode": {
    "name": "ipython",
    "version": 3
   },
   "file_extension": ".py",
   "mimetype": "text/x-python",
   "name": "python",
   "nbconvert_exporter": "python",
   "pygments_lexer": "ipython3",
   "version": "3.13.5"
  }
 },
 "nbformat": 4,
 "nbformat_minor": 5
}
