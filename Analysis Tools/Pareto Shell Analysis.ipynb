{
 "cells": [
  {
   "cell_type": "markdown",
   "id": "90175121-84fd-4c5a-8029-0e2274295f42",
   "metadata": {},
   "source": [
    "# Pareto Shell Analysis"
   ]
  },
  {
   "cell_type": "markdown",
   "id": "360452c7-a397-4530-87d4-5989de4f4a94",
   "metadata": {},
   "source": [
    "For multi-objective problems it is often useful to find the \"Parto Front\". If some hypothesis x1 is preferble to some other hypothesis x2 across every objective function, it's obviously not sensible to ever suggest x2 if we have the option to do x1. We say x1 \"Pareto dominates\" x2. \n",
    "\n",
    "The set of points which are not Pareto dominated by anything in are the \"Pareto front\" or the \"first Pareto shell\", and the set of points not dominated by anything not in the Nth Pareto shell are the (N+1)th Pareto shell."
   ]
  },
  {
   "cell_type": "code",
   "execution_count": 1,
   "id": "3d6bc11e-9ea2-4aab-b0ed-b54c2736fee1",
   "metadata": {},
   "outputs": [],
   "source": [
    "import numpy as np"
   ]
  },
  {
   "cell_type": "markdown",
   "id": "b2f02ce4-abed-42da-be3b-6a99f5861137",
   "metadata": {},
   "source": [
    "Generating some random data to play around with. Replace this with the actual objective function values of the data you wish to analyze. Note that this code assumes you are maximising, so multiply aby objectives which must be minimized by -1 before pasing."
   ]
  },
  {
   "cell_type": "code",
   "execution_count": 2,
   "id": "a04d4138-5893-4e6a-bf6a-b987176a7fe8",
   "metadata": {},
   "outputs": [
    {
     "name": "stdout",
     "output_type": "stream",
     "text": [
      "[[ 32  64  58  39]\n",
      " [ 95  16  14  16]\n",
      " [ 56  65  71   7]\n",
      " [ 50  60  63  91]\n",
      " [ 39   5  72  13]\n",
      " [ 96  80   4  79]\n",
      " [ 10   6  41  98]\n",
      " [ 26  25  52  43]\n",
      " [ 39   9  50 100]\n",
      " [ 72   5  69  96]\n",
      " [ 26  93  41   9]\n",
      " [  3  21  56  63]\n",
      " [ 82  66  76  16]\n",
      " [ 11  69  13  84]\n",
      " [ 47  92  32  25]\n",
      " [ 54   5  71  89]\n",
      " [ 50  15  35  82]\n",
      " [ 40  18  28  19]\n",
      " [ 62  29  87  99]\n",
      " [ 86  14  34  43]\n",
      " [ 32  45  71  37]\n",
      " [ 90  58  69  35]\n",
      " [ 22  41  66  87]\n",
      " [ 14  88   5  54]\n",
      " [ 97  99  23  94]\n",
      " [ 71   1   7  61]\n",
      " [ 50  76 100  41]\n",
      " [ 13  61  89  32]\n",
      " [ 33  62  71  60]\n",
      " [ 42  55  91  54]\n",
      " [ 88  63  88  93]\n",
      " [  3  64  79  35]\n",
      " [ 74  89   5  14]\n",
      " [ 83  83  42  23]\n",
      " [ 29  94  52  71]\n",
      " [ 98  33   5  29]\n",
      " [ 35  82  77  88]\n",
      " [ 71  88  88  42]\n",
      " [ 55  66  65  94]\n",
      " [ 70  79  68   7]\n",
      " [ 93  37  18  24]\n",
      " [ 54  48  96  55]\n",
      " [ 63  32  36  68]\n",
      " [  1  35  20   2]\n",
      " [100  19  43  19]\n",
      " [ 23  80  80  96]\n",
      " [ 25  34  30  44]\n",
      " [ 39  55  71  73]\n",
      " [ 74  55  25  20]\n",
      " [ 37  19  46  61]]\n"
     ]
    }
   ],
   "source": [
    "testData = np.random.randint(1, 101, size = (50, 4))\n",
    "print(testData)"
   ]
  },
  {
   "cell_type": "code",
   "execution_count": 3,
   "id": "fdf87d98-f675-40e0-95fb-7231eb8f21f8",
   "metadata": {},
   "outputs": [
    {
     "name": "stdout",
     "output_type": "stream",
     "text": [
      "The Pareto front is: [(np.int64(39), np.int64(9), np.int64(50), np.int64(100)), (np.int64(72), np.int64(5), np.int64(69), np.int64(96)), (np.int64(82), np.int64(66), np.int64(76), np.int64(16)), (np.int64(47), np.int64(92), np.int64(32), np.int64(25)), (np.int64(62), np.int64(29), np.int64(87), np.int64(99)), (np.int64(90), np.int64(58), np.int64(69), np.int64(35)), (np.int64(97), np.int64(99), np.int64(23), np.int64(94)), (np.int64(50), np.int64(76), np.int64(100), np.int64(41)), (np.int64(42), np.int64(55), np.int64(91), np.int64(54)), (np.int64(88), np.int64(63), np.int64(88), np.int64(93)), (np.int64(83), np.int64(83), np.int64(42), np.int64(23)), (np.int64(29), np.int64(94), np.int64(52), np.int64(71)), (np.int64(98), np.int64(33), np.int64(5), np.int64(29)), (np.int64(35), np.int64(82), np.int64(77), np.int64(88)), (np.int64(71), np.int64(88), np.int64(88), np.int64(42)), (np.int64(55), np.int64(66), np.int64(65), np.int64(94)), (np.int64(54), np.int64(48), np.int64(96), np.int64(55)), (np.int64(100), np.int64(19), np.int64(43), np.int64(19)), (np.int64(23), np.int64(80), np.int64(80), np.int64(96))]\n"
     ]
    }
   ],
   "source": [
    "class ParetoShell:\n",
    "    def __init__(\n",
    "        self,\n",
    "        data,\n",
    "    ):\n",
    "        self.data = [tuple(x) for x in data]\n",
    "        self.shells = []\n",
    "    #True if x1 dominates x2, false otherwise\n",
    "    def paretoDominates(self, x1, x2):\n",
    "        x1BetterSomewhere = False\n",
    "        for i in range(len(x1)):\n",
    "            if x2[i] > x1[i]:\n",
    "                return(False)\n",
    "            if x2[i] < x1[i]:\n",
    "                x1BetterSomewhere = True\n",
    "        return(x1BetterSomewhere)\n",
    "    #Finds the next Pareto shell, and strips it from self.data\n",
    "    def findNextShell(self):\n",
    "        shell = []\n",
    "        for x1 in self.data:\n",
    "            getsDominated = False\n",
    "            for x2 in self.data:\n",
    "                if self.paretoDominates(x2, x1):\n",
    "                    getsDominated = True\n",
    "            if not getsDominated:\n",
    "                shell.append(x1)\n",
    "        self.shells.append(shell)\n",
    "        self.data = [x for x in self.data if x not in shell]\n",
    "        return(shell)\n",
    "    #Find all the shells\n",
    "    def findAllShells(self):\n",
    "        while len(self.data) != 0:\n",
    "            self.findNextShell()\n",
    "        return(self)\n",
    "    def printParetoFront(self):\n",
    "        print(f\"The Pareto front is: {self.findAllShells().shells[0]}\")\n",
    "    #Print Nth shell\n",
    "    def printNthShell(self, n):\n",
    "        self.findAllShells()\n",
    "        print(self.shells[n])\n",
    "        return(self)\n",
    "        \n",
    "ps = ParetoShell(testData)\n",
    "ps.printParetoFront()"
   ]
  },
  {
   "cell_type": "code",
   "execution_count": null,
   "id": "8ebec5d1-13ae-4307-9155-2bc5bddc5bf8",
   "metadata": {},
   "outputs": [],
   "source": []
  }
 ],
 "metadata": {
  "kernelspec": {
   "display_name": "Python 3 (ipykernel)",
   "language": "python",
   "name": "python3"
  },
  "language_info": {
   "codemirror_mode": {
    "name": "ipython",
    "version": 3
   },
   "file_extension": ".py",
   "mimetype": "text/x-python",
   "name": "python",
   "nbconvert_exporter": "python",
   "pygments_lexer": "ipython3",
   "version": "3.10.16"
  }
 },
 "nbformat": 4,
 "nbformat_minor": 5
}
