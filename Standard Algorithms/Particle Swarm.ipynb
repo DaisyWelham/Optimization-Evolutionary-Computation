{
 "cells": [
  {
   "cell_type": "markdown",
   "id": "c61a087f",
   "metadata": {},
   "source": [
    "# Particle Swarm"
   ]
  },
  {
   "cell_type": "markdown",
   "id": "69f57270",
   "metadata": {},
   "source": [
    "Particle swarm optimiztion (PSO) uses an analogy to the foraging behaviour of birds to identify promising areas of the objective. We scatter multiple \"particles\" which then accelerate towards the best position any of the particles has seen, as well as towards their own historical best position. Eventually, we converge to an answer.\n",
    "\n",
    "PSO gets stuck in local optima less often than other algorithms such as gradient descent, but it can still miss the global optimum, which becomes more likely if too few particles are used. PSO also allows the \"particles\" to wander outside of the zone of hypotheses that are actually feasible solutions, so it may sometimes be necessary to modify an objective function so that only valid solutions to the problem score highly (in this notebook, velocity may not be negative).\n",
    "\n",
    "PSO performs especially well on hard problems with either many local optima or many hypothesis dimensions, but for simple problems it is typically overkill in terms of compuation power spent."
   ]
  },
  {
   "cell_type": "code",
   "execution_count": null,
   "id": "97550bed",
   "metadata": {},
   "outputs": [],
   "source": [
    "import random as r\n",
    "import numpy as np"
   ]
  },
  {
   "cell_type": "markdown",
   "id": "ba0d4c7a",
   "metadata": {},
   "source": [
    "## Objective Functions"
   ]
  },
  {
   "cell_type": "markdown",
   "id": "ec98247c",
   "metadata": {},
   "source": [
    "The drag per second a vehicle travelling on a road experiences is approximately R(v) = Av^2 + Bv + C where A is a factor relating aerodynamics, B to rolling and drivetrain losses, and C is a constant load. If t is the time taken to arrive at a destination D, minimizing t x R will minimize the losses due to drag for the journey. Since v = D/t and D is constant this is equivalent to minimizing R/v, i.e. Av + B + C/v. \n",
    "\n",
    "Suppose we have a car with A = 0.6, B = 5, C = 80, we have a well-defined optimization problem. It's fun to play around with A/B/C and see how different physical parameters affect the optimum speed. most cars travel ~30mph most of the time, so we expect an answer near 13m/s"
   ]
  },
  {
   "cell_type": "code",
   "execution_count": null,
   "id": "57a56725",
   "metadata": {},
   "outputs": [],
   "source": [
    "def dragMinimization(\n",
    "    hypothesis,\n",
    "    aerodynamicsConstant = 0.6,\n",
    "    rollingConstant = 5,\n",
    "    loadConstant = 80\n",
    "):\n",
    "    v = hypothesis[0]\n",
    "    if v < 0:\n",
    "        return(-float(\"inf\"))\n",
    "    aTerm = aerodynamicsConstant * v \n",
    "    bTerm = rollingConstant\n",
    "    cTerm = loadConstant / v\n",
    "    output = - (aTerm + bTerm + cTerm)\n",
    "    return(output)"
   ]
  },
  {
   "cell_type": "markdown",
   "id": "1f711a11",
   "metadata": {},
   "source": [
    "## Particle Swarm Optimizer"
   ]
  },
  {
   "cell_type": "code",
   "execution_count": null,
   "id": "71c405be",
   "metadata": {},
   "outputs": [],
   "source": [
    "class Particle:\n",
    "        \n",
    "    def __init__(self,\n",
    "                objectiveFunction,\n",
    "                ranges):\n",
    "        self.ranges = ranges\n",
    "        self.objectiveFunction = objectiveFunction\n",
    "        self.currentX = self.generateRandomHypothesis()\n",
    "        self.ownBestX = self.currentX\n",
    "        self.currentY = self.objectiveFunction(self.currentX)\n",
    "        self.ownBestY = self.currentY\n",
    "        self.velocity = [(0 * x) for x in self.currentX]\n",
    "\n",
    "    def generateRandomHypothesis(self):\n",
    "        output = []\n",
    "        for x in self.ranges:\n",
    "            output.append(r.uniform(x[0], x[1]))\n",
    "        return(output)\n",
    "\n",
    "class ParticleSwarm:\n",
    "    def __init__(\n",
    "        self,\n",
    "        objectiveFunction,\n",
    "        ranges,\n",
    "        populationSize = 25\n",
    "    ):\n",
    "        self.objectiveFunction = objectiveFunction\n",
    "        self.ranges = ranges\n",
    "        self.populationSize = populationSize\n",
    "        self.population = []\n",
    "        self.bestY = -float(\"inf\")\n",
    "        self.bestX = None\n",
    "        for i in range(populationSize):\n",
    "            newParticle = Particle(self.objectiveFunction, self.ranges)\n",
    "            self.population.append(newParticle)\n",
    "            if newParticle.ownBestY > self.bestY:\n",
    "                self.bestY = newParticle.ownBestY\n",
    "                self.bestX = newParticle.ownBestX\n",
    "    \n",
    "    def optimize(self,\n",
    "                objectiveFunction,\n",
    "                numIterations = 250,\n",
    "                learnRate = 0.01):\n",
    "        for i in range(numIterations):\n",
    "            for j in range(self.populationSize):\n",
    "                particle = self.population[j]\n",
    "                updateVector1 = []\n",
    "                updateVector2 = []\n",
    "                for k in range(len(self.bestX)):\n",
    "                    updateVector1.append(-learnRate * (self.bestX[k] - particle.currentX[k]))\n",
    "                    updateVector2.append(-learnRate * (particle.ownBestX[k] - particle.currentX[k]))\n",
    "                    particle.velocity[k] += updateVector1[k]\n",
    "                    particle.velocity[k] += updateVector2[k]\n",
    "                    particle.currentX[k] += particle.velocity[k]\n",
    "                    particle.currentY = self.objectiveFunction(particle.currentX)\n",
    "                    if particle.currentY > particle.ownBestY:\n",
    "                        particle.ownBestY = particle.currentY\n",
    "                        particle.ownBestX = particle.currentX\n",
    "                    if particle.currentY > self.bestY:\n",
    "                        self.bestY = particle.currentY\n",
    "                        self.bestX = particle.currentX\n",
    "        return(self.bestX)\n",
    "\n",
    "ps = ParticleSwarm(dragMinimization, [[0, 25]])\n",
    "print(ps.optimize(dragMinimization))"
   ]
  },
  {
   "cell_type": "code",
   "execution_count": null,
   "id": "db21700b",
   "metadata": {},
   "outputs": [],
   "source": []
  }
 ],
 "metadata": {
  "kernelspec": {
   "display_name": "Python 3 (ipykernel)",
   "language": "python",
   "name": "python3"
  },
  "language_info": {
   "codemirror_mode": {
    "name": "ipython",
    "version": 3
   },
   "file_extension": ".py",
   "mimetype": "text/x-python",
   "name": "python",
   "nbconvert_exporter": "python",
   "pygments_lexer": "ipython3",
   "version": "3.10.16"
  }
 },
 "nbformat": 4,
 "nbformat_minor": 5
}
