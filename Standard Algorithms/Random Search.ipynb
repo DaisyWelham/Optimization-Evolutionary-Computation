{
 "cells": [
  {
   "cell_type": "markdown",
   "id": "c61a087f",
   "metadata": {},
   "source": [
    "# Random Search"
   ]
  },
  {
   "cell_type": "markdown",
   "id": "69f57270",
   "metadata": {},
   "source": [
    "Random Search (RS) is one of the easiest optimization algorithms to understand: pick a random hypothesis, and keep only the best! It isn't technically Bayesian since the next guess has nothing to do with the previous guess, but it's a start. RS is a nice benchmark against which to compare other algorithms, since it's computationally cheap and takes little effort to implement: any algorithm which doesn't beat RS is probably not worth dealing with!"
   ]
  },
  {
   "cell_type": "code",
   "execution_count": 1,
   "id": "97550bed",
   "metadata": {},
   "outputs": [],
   "source": [
    "import random as r"
   ]
  },
  {
   "cell_type": "markdown",
   "id": "ba0d4c7a",
   "metadata": {},
   "source": [
    "## Objective Functions"
   ]
  },
  {
   "cell_type": "markdown",
   "id": "ec98247c",
   "metadata": {},
   "source": [
    "In this notebook we'll test the semi-empirical mass formula. It's a formula from physics which gives us the binding energy of a nucleus given its proton number, Z, and neutron number, N. Since physics is effectively trying to maximise the binding energy per nucleon, we have a fun optimization problem if we divide the energy predicted by the SEMF by Z + N. You can play around with physics and see which isotopes would be stable if you changed, say, the Coulomb term! \n",
    "\n",
    "SEMF is also useful since it has a known best result of Nickel-62: Z = 28, N = 34. The closer the output is to this, the better our algorithm is doing. Another very stable isotope is Iron-56: Z = 26, N = 30, so if we get a result close to this the algorithm has done well, too.\n",
    "\n",
    "More about the SEMF here: https://en.wikipedia.org/wiki/Semi-empirical_mass_formula\n",
    "\n",
    "If you want a different objective function, check out Objectives.ipynb."
   ]
  },
  {
   "cell_type": "code",
   "execution_count": 2,
   "id": "57a56725",
   "metadata": {},
   "outputs": [],
   "source": [
    "def SEMF(\n",
    "    hypothesis, \n",
    "    volumeConstant = 15.8,\n",
    "    surfaceConstant = 17.8,\n",
    "    coulombConstant = 0.711,\n",
    "    asymmetryConstant = 23.7,\n",
    "    pairingConstant = 11.18\n",
    "):\n",
    "    \n",
    "    #Physical info from hypothesis\n",
    "    Z = int(hypothesis[0]) #Proton number\n",
    "    N = int(hypothesis[1]) #Neutron number\n",
    "    A = Z + N              #Nucleon number\n",
    "    \n",
    "    #Calculate each term\n",
    "    volumeTerm = volumeConstant * A\n",
    "    surfaceTerm = -surfaceConstant * A ** (2/3)\n",
    "    coulombTerm = -coulombConstant * Z * (Z - 1) * A ** (-1/3)\n",
    "    asymmetryTerm = -asymmetryConstant * ((N - Z) ** 2) / A\n",
    "    \n",
    "    #Pairing term\n",
    "    if A % 2 == 1:\n",
    "        pairingTerm = 0\n",
    "    elif Z % 2 == 0 and N % 2 == 0:\n",
    "        pairingTerm = pairingConstant * A ** (-1/2)\n",
    "    elif Z % 2 == 1 and N % 2 == 1:\n",
    "        pairingTerm = -pairingConstant * A ** (-1/2)\n",
    "    else:\n",
    "        pairingTerm = 0\n",
    "    output = (volumeTerm + surfaceTerm + coulombTerm + asymmetryTerm + pairingTerm) / A\n",
    "    return(output)"
   ]
  },
  {
   "cell_type": "markdown",
   "id": "1f711a11",
   "metadata": {},
   "source": [
    "## Random Search"
   ]
  },
  {
   "cell_type": "code",
   "execution_count": 3,
   "id": "71c405be",
   "metadata": {},
   "outputs": [
    {
     "name": "stdout",
     "output_type": "stream",
     "text": [
      "[28.062189780755695, 34.105709269503244]\n"
     ]
    }
   ],
   "source": [
    "class RandomSearch:\n",
    "    def __init__(\n",
    "        self,\n",
    "        ranges\n",
    "    ):\n",
    "        self.ranges = ranges\n",
    "        \n",
    "    def generateRandomHypothesis(self):\n",
    "        output = []\n",
    "        for x in self.ranges:\n",
    "            output.append(r.uniform(x[0], x[1]))\n",
    "        return(output)\n",
    "    \n",
    "    def optimize(self,\n",
    "                objectiveFunction,\n",
    "                numIterations = 25000):\n",
    "        bestX = None\n",
    "        bestY = -float(\"inf\")\n",
    "        for i in range(numIterations):\n",
    "            newX = self.generateRandomHypothesis()\n",
    "            newY = objectiveFunction(newX)\n",
    "            if newY > bestY:\n",
    "                bestX = newX\n",
    "                bestY = newY\n",
    "        return(bestX)\n",
    "rs = RandomSearch([[1, 120], [1, 180]])\n",
    "print(rs.optimize(SEMF))"
   ]
  },
  {
   "cell_type": "code",
   "execution_count": null,
   "id": "db21700b",
   "metadata": {},
   "outputs": [],
   "source": []
  }
 ],
 "metadata": {
  "kernelspec": {
   "display_name": "Python 3 (ipykernel)",
   "language": "python",
   "name": "python3"
  },
  "language_info": {
   "codemirror_mode": {
    "name": "ipython",
    "version": 3
   },
   "file_extension": ".py",
   "mimetype": "text/x-python",
   "name": "python",
   "nbconvert_exporter": "python",
   "pygments_lexer": "ipython3",
   "version": "3.10.9"
  }
 },
 "nbformat": 4,
 "nbformat_minor": 5
}
