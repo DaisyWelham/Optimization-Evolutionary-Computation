{
 "cells": [
  {
   "cell_type": "markdown",
   "id": "c61a087f",
   "metadata": {},
   "source": [
    "# Genetic Algorithm"
   ]
  },
  {
   "cell_type": "markdown",
   "id": "69f57270",
   "metadata": {},
   "source": [
    "The Genetic Algorithm (GA) is great for combinatorial optimization problems, where we must pick which members of a set to include or exclude in our solution. We can do asexual genetic algorithm, in which case individuals in the population simply mutate slightly when they reproduce, or crossover GA in which case we \"breed\" solutions by swapping over their genes and then mutation. Unlike in real biology, there's no reason why we can't do GA with more than two parent solutions."
   ]
  },
  {
   "cell_type": "code",
   "execution_count": 1,
   "id": "97550bed",
   "metadata": {},
   "outputs": [],
   "source": [
    "import random as r"
   ]
  },
  {
   "cell_type": "markdown",
   "id": "ba0d4c7a",
   "metadata": {},
   "source": [
    "## Objective Functions"
   ]
  },
  {
   "cell_type": "markdown",
   "id": "ec98247c",
   "metadata": {},
   "source": [
    "The knapsack problem involves the idea that we have a set of objects we would like to take with us on a trip, and each object has a value for how much we would enjoy taking it and also how much it weighs. We have a limit on how much weight we can carry and so need to prioritise which objects we take. "
   ]
  },
  {
   "cell_type": "code",
   "execution_count": 11,
   "id": "57a56725",
   "metadata": {},
   "outputs": [],
   "source": [
    "weightLimit = 15\n",
    "items = [\n",
    "    [5.0, 3.4],  #Book \n",
    "    [9.5, 8.5], #Laptop\n",
    "    [5.1, 6.3],  #Digital Camera\n",
    "    [4.2, 2.7],  #Sketchbook\n",
    "    [3.5, 3.9],  #Teddy bear\n",
    "    [4.1, 3.3],  #Board Game\n",
    "    [6.2, 4.5],  #Headset\n",
    "    [2.1, 1.8],  #Travel Pillow\n",
    "]\n",
    "def knapsack(hypothesis):\n",
    "    output = 0\n",
    "    weight = 0\n",
    "    for i in range(len(hypothesis)):\n",
    "        if hypothesis[i] == 1:\n",
    "            output += items[i][0]\n",
    "            weight += items[i][1]\n",
    "    #Punish if the weight is above the wight limit\n",
    "    if weight > weightLimit:\n",
    "        output -= 1000 * (weight - weightLimit)\n",
    "    return(output)"
   ]
  },
  {
   "cell_type": "markdown",
   "id": "1f711a11",
   "metadata": {},
   "source": [
    "## Genetic Algorithm"
   ]
  },
  {
   "cell_type": "code",
   "execution_count": 12,
   "id": "71c405be",
   "metadata": {},
   "outputs": [
    {
     "name": "stdout",
     "output_type": "stream",
     "text": [
      "[1, 0, 0, 1, 0, 1, 1, 0]\n"
     ]
    }
   ],
   "source": [
    "class GeneticAlgorithm:\n",
    "    def __init__(\n",
    "        self,\n",
    "        populationSize = 25,\n",
    "        geneLength = len(items)\n",
    "    ):\n",
    "        self.population = []\n",
    "        self.populationSize = populationSize \n",
    "        self.geneLength = geneLength\n",
    "        \n",
    "    def generateRandomHypothesis(self):\n",
    "        output = []\n",
    "        for i in range(self.geneLength):\n",
    "            output.append(r.choice([0, 1]))\n",
    "        return(output)\n",
    "    \n",
    "    def initializePopulation(self, objectiveFunction):\n",
    "        for i in range(self.populationSize):\n",
    "            genes = self.generateRandomHypothesis()\n",
    "            value = objectiveFunction(genes)\n",
    "            self.population.append([genes, value])\n",
    "        return(self.population)\n",
    "            \n",
    "    #Asexual reproduction in basic GA\n",
    "    def reproduce(self, individual, objectiveFunction, mutationProb = 0.25):\n",
    "        output = []\n",
    "        genes = individual[0]\n",
    "        for i in range(len(genes)):\n",
    "            if r.uniform(0, 1) < mutationProb:\n",
    "                output.append(1 - genes[i])\n",
    "            else:\n",
    "                output.append(genes[i])\n",
    "        output = [output, objectiveFunction(output)]\n",
    "        return(output)\n",
    "    \n",
    "    def updatePopulation(self, objectiveFunction):\n",
    "        individualToReproduce = r.choice([x for x in self.population])\n",
    "        newIndividual = self.reproduce(individualToReproduce, objectiveFunction)\n",
    "        for i in range(len(self.population)):\n",
    "            if newIndividual[1] > self.population[i][1]:\n",
    "                self.population[i] = newIndividual\n",
    "                r.shuffle(self.population)\n",
    "                return(self.population)\n",
    "        return(self.population)\n",
    "            \n",
    "    def optimize(self,\n",
    "                objectiveFunction,\n",
    "                numIterations = 1000):\n",
    "        self.population = self.initializePopulation(objectiveFunction)\n",
    "        for i in range(numIterations):\n",
    "            self.population = self.updatePopulation(objectiveFunction)\n",
    "        return(self.population)\n",
    "    \n",
    "    def reportBest(self):\n",
    "        bestX = self.population[0][0]\n",
    "        bestY = self.population[0][1]\n",
    "        for individual in self.population:\n",
    "            if individual[1] > bestY:\n",
    "                bestY = individual[1]\n",
    "                bestX = individual[0]\n",
    "        return(bestX)\n",
    "    \n",
    "ga = GeneticAlgorithm()\n",
    "ga.optimize(knapsack)\n",
    "print(ga.reportBest())"
   ]
  },
  {
   "cell_type": "code",
   "execution_count": null,
   "id": "942ef418",
   "metadata": {},
   "outputs": [],
   "source": []
  }
 ],
 "metadata": {
  "kernelspec": {
   "display_name": "Python 3 (ipykernel)",
   "language": "python",
   "name": "python3"
  },
  "language_info": {
   "codemirror_mode": {
    "name": "ipython",
    "version": 3
   },
   "file_extension": ".py",
   "mimetype": "text/x-python",
   "name": "python",
   "nbconvert_exporter": "python",
   "pygments_lexer": "ipython3",
   "version": "3.10.9"
  }
 },
 "nbformat": 4,
 "nbformat_minor": 5
}
