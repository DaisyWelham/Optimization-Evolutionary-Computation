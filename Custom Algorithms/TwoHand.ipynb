{
 "cells": [
  {
   "cell_type": "markdown",
   "id": "c61a087f",
   "metadata": {},
   "source": [
    "# Two-Handed Optimization"
   ]
  },
  {
   "cell_type": "markdown",
   "id": "69f57270",
   "metadata": {},
   "source": [
    "A custom meta-algorithm I like to call \"Two-Handed optimization\". We have two sub-algorithms (in this case random search and gradient descent) and we vary which we use depending on how well each algorithm is performing: the better it's doing, the more we use it. The theory is that by having one exploratory algorithm (RS) and one exploitative algorithm (GD) we can better solve the explore-exploit problem by automating the decision as to which algorithm to use with a mesa optimizer."
   ]
  },
  {
   "cell_type": "code",
   "execution_count": 1,
   "id": "97550bed",
   "metadata": {},
   "outputs": [],
   "source": [
    "import random as r\n",
    "import numpy as np"
   ]
  },
  {
   "cell_type": "markdown",
   "id": "ba0d4c7a",
   "metadata": {},
   "source": [
    "## Objective Functions"
   ]
  },
  {
   "cell_type": "markdown",
   "id": "ec98247c",
   "metadata": {},
   "source": [
    "In this notebook we'll test the semi-empirical mass formula. It's a formula from physics which gives us the binding energy of a nucleus given its proton number, Z, and neutron number, N. Since physics is effectively trying to maximise the binding energy per nucleon, we have a fun optimization problem if we divide the energy predicted by the SEMF by Z + N. You can play around with physics and see which isotopes would be stable if you changed, say, the Coulomb term! \n",
    "\n",
    "SEMF is also useful since it has a known best result of Nickel-62: Z = 28, N = 34. The closer the output is to this, the better our algorithm is doing. Another very stable isotope is Iron-56: Z = 26, N = 30, so if we get a result close to this the algorithm has done well, too.\n",
    "\n",
    "More about the SEMF here: https://en.wikipedia.org/wiki/Semi-empirical_mass_formula\n",
    "\n",
    "If you want a different objective function, check out Objectives.ipynb."
   ]
  },
  {
   "cell_type": "code",
   "execution_count": 2,
   "id": "57a56725",
   "metadata": {},
   "outputs": [],
   "source": [
    "def SEMF(\n",
    "    hypothesis, \n",
    "    volumeConstant = 15.8,\n",
    "    surfaceConstant = 17.8,\n",
    "    coulombConstant = 0.711,\n",
    "    asymmetryConstant = 23.7,\n",
    "    pairingConstant = 11.18\n",
    "):\n",
    "    \n",
    "    #Physical info from hypothesis\n",
    "    Z = int(hypothesis[0]) #Proton number\n",
    "    N = int(hypothesis[1]) #Neutron number\n",
    "    A = Z + N              #Nucleon number\n",
    "    \n",
    "    #Calculate each term\n",
    "    volumeTerm = volumeConstant * A\n",
    "    surfaceTerm = -surfaceConstant * A ** (2/3)\n",
    "    coulombTerm = -coulombConstant * Z * (Z - 1) * A ** (-1/3)\n",
    "    asymmetryTerm = -asymmetryConstant * ((N - Z) ** 2) / A\n",
    "    \n",
    "    #Pairing term\n",
    "    if A % 2 == 1:\n",
    "        pairingTerm = 0\n",
    "    elif Z % 2 == 0 and N % 2 == 0:\n",
    "        pairingTerm = pairingConstant * A ** (-1/2)\n",
    "    elif Z % 2 == 1 and N % 2 == 1:\n",
    "        pairingTerm = -pairingConstant * A ** (-1/2)\n",
    "    else:\n",
    "        pairingTerm = 0\n",
    "    output = (volumeTerm + surfaceTerm + coulombTerm + asymmetryTerm + pairingTerm) / A\n",
    "    return(output)"
   ]
  },
  {
   "cell_type": "markdown",
   "id": "1f711a11",
   "metadata": {},
   "source": [
    "## Two-Handed"
   ]
  },
  {
   "cell_type": "code",
   "execution_count": 18,
   "id": "71c405be",
   "metadata": {},
   "outputs": [
    {
     "name": "stdout",
     "output_type": "stream",
     "text": [
      "[26.397531429833865, 32.693510329091445]\n"
     ]
    }
   ],
   "source": [
    "class TwoHanded:\n",
    "    def __init__(\n",
    "        self,\n",
    "        ranges,\n",
    "        leftPoints = 1,\n",
    "        rightPoints = 1\n",
    "    ):\n",
    "        self.ranges = ranges\n",
    "        self.leftPoints = leftPoints\n",
    "        self.rightPoints = rightPoints\n",
    "        \n",
    "    def selectLeftOrRight(self):\n",
    "        probLeft = self.leftPoints / (self.leftPoints + self.rightPoints)\n",
    "        if r.uniform(0, 1) < probLeft:\n",
    "            return(\"L\")\n",
    "        else:\n",
    "            return(\"R\")\n",
    "\n",
    "    #Random search's hyothesis selector.\n",
    "    def generateRandomHypothesis(self):\n",
    "        output = []\n",
    "        for x in self.ranges:\n",
    "            output.append(r.uniform(x[0], x[1]))\n",
    "        return(output)\n",
    "\n",
    "    #One iteration of gradient descent\n",
    "    def gradientStep(self, objectiveFunction, currentX, dx = 10 ** (-10), learnRate = 0.01):\n",
    "        gradientVector = []\n",
    "        for i in range(len(currentX)):\n",
    "            cloneX = [x for x in currentX]\n",
    "            Y1 = objectiveFunction(cloneX)\n",
    "            cloneX[i] += dx\n",
    "            Y2 = objectiveFunction(cloneX)\n",
    "            gradientVector.append((Y2 - Y1)/dx)\n",
    "        outputX = [x for x in currentX]\n",
    "        for i in range(len(outputX)):\n",
    "            outputX[i] += gradientVector[i] * learnRate\n",
    "        return(outputX)\n",
    "    \n",
    "    def optimize(self, objectiveFunction, numIterations = 25000):\n",
    "        currentX = None\n",
    "        currentY = -float(\"inf\")\n",
    "        for i in range(numIterations):\n",
    "            leftRightDecision = self.selectLeftOrRight()\n",
    "            if leftRightDecision == \"L\":\n",
    "                newX = self.generateRandomHypothesis()\n",
    "                newY = objectiveFunction(newX)\n",
    "                if newY > currentY:\n",
    "                    currentY = newY\n",
    "                    currentX = newX\n",
    "                    self.leftPoints += 1\n",
    "                else:\n",
    "                    self.rightPoints += 1\n",
    "            else:\n",
    "                if currentX == None:\n",
    "                     currentX = [np.mean(x) for x in self.ranges]\n",
    "                newX = self.gradientStep(objectiveFunction, currentX)\n",
    "                newY = objectiveFunction(newX)\n",
    "                if newY > currentY:\n",
    "                    currentY = newY\n",
    "                    currentX = newX\n",
    "                    self.rightPoints += 1\n",
    "                else:\n",
    "                    self.leftPoints += 1\n",
    "        return(currentX)\n",
    "th = TwoHanded([[1, 120], [1, 180]])\n",
    "print(th.optimize(SEMF))"
   ]
  },
  {
   "cell_type": "code",
   "execution_count": null,
   "id": "db21700b",
   "metadata": {},
   "outputs": [],
   "source": []
  }
 ],
 "metadata": {
  "kernelspec": {
   "display_name": "Python 3 (ipykernel)",
   "language": "python",
   "name": "python3"
  },
  "language_info": {
   "codemirror_mode": {
    "name": "ipython",
    "version": 3
   },
   "file_extension": ".py",
   "mimetype": "text/x-python",
   "name": "python",
   "nbconvert_exporter": "python",
   "pygments_lexer": "ipython3",
   "version": "3.10.16"
  }
 },
 "nbformat": 4,
 "nbformat_minor": 5
}
