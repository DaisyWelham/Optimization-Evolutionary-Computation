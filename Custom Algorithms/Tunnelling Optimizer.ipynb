{
 "cells": [
  {
   "cell_type": "markdown",
   "id": "27328a1d-cc1c-44ed-86a7-5131ea820607",
   "metadata": {},
   "source": [
    "# Tunnelling Optimizer"
   ]
  },
  {
   "cell_type": "markdown",
   "id": "1ce1307a-c444-4a4e-befe-49ed3ac84feb",
   "metadata": {},
   "source": [
    "Simulated annealing is a useful optimization algorithm for a wide range of problems, in particular its ability to escape local optima better than hill climbing and gradient descent, its computational cheapness, and its non-reliance on gradients etc. However, it can still struggle with functions with many local optima, as the cooling process causes it to fail to escape. \n",
    "\n",
    "In this notebook we use an optimization algorithm inspired by quantum tunnelling, the \"tunnelling optimizer\". In quantum tunnelling, a particle can \"tunnel\" out of a potential barrier, which is made more likely if some kind of field is applied to it. Our algorithm gains more \"field\" the longer it has gone without seeing an improvement, which allows it to take larger steps and aeventuallly escape local optima. The goal is to keep the benefits of simulated annealing while improving performance on tasks wikth many local optima."
   ]
  },
  {
   "cell_type": "code",
   "execution_count": 1,
   "id": "862a320f-9c76-4c61-9673-b1920fc00438",
   "metadata": {},
   "outputs": [],
   "source": [
    "import numpy as np\n",
    "import random as r"
   ]
  },
  {
   "cell_type": "markdown",
   "id": "d715bcad-a6bf-4e0f-8c1f-ceba92d7a690",
   "metadata": {},
   "source": [
    "## Griewank"
   ]
  },
  {
   "cell_type": "markdown",
   "id": "382a9bc2-8fc3-430c-b65a-d51f09d7cf18",
   "metadata": {},
   "source": [
    "Griewank is an interesting optimization problem due to its many local optima and variable dimensions. One interesting area in optimization is how well algorithms perform when there are a large number of dimensions and few objective function calls. Thus, we test 100-dimensional Griewank with 1000 function calls. For more on Griewank: https://www.sfu.ca/~ssurjano/griewank.html"
   ]
  },
  {
   "cell_type": "code",
   "execution_count": 2,
   "id": "47c88739-31b9-4dff-9849-0755bf0fd36d",
   "metadata": {},
   "outputs": [],
   "source": [
    "D = 100 #number of dimensions\n",
    "\n",
    "def griewank(x, numDim = D):\n",
    "    prodTerm = 1\n",
    "    for i in range(len(x)):\n",
    "        prodTerm *= np.cos(x[i] / np.sqrt(i + 1))\n",
    "    sumTerm = 0\n",
    "    for i in range(len(x)):\n",
    "        sumTerm += (x[i] ** 2) / 4000\n",
    "    output = sumTerm - prodTerm + 1\n",
    "    return(-output) #since we maximize\n",
    "ranges = [[-600, 600]] * D\n",
    "\n",
    "maxFunctionCalls = 1000"
   ]
  },
  {
   "cell_type": "markdown",
   "id": "886f8183-3f30-44cf-ad4b-d0d3b9b0a825",
   "metadata": {},
   "source": [
    "## Random Search"
   ]
  },
  {
   "cell_type": "markdown",
   "id": "6f9682ce-cacb-4b90-8815-6a27c188aecc",
   "metadata": {},
   "source": [
    "Random Search (RS) is computationally cheap and a useful control. If your algorithm doesn't outperform RS, it's back to the drawing board!"
   ]
  },
  {
   "cell_type": "code",
   "execution_count": 3,
   "id": "4e201b6b-9b64-4aff-9f45-ccb7a799b885",
   "metadata": {},
   "outputs": [
    {
     "name": "stdout",
     "output_type": "stream",
     "text": [
      "-2051.199905404199\n"
     ]
    }
   ],
   "source": [
    "class RandomSearch:\n",
    "    def __init__(\n",
    "        self,\n",
    "        ranges\n",
    "    ):\n",
    "        self.ranges = ranges\n",
    "        \n",
    "    def generateRandomHypothesis(self):\n",
    "        output = []\n",
    "        for x in self.ranges:\n",
    "            output.append(r.uniform(x[0], x[1]))\n",
    "        return(output)\n",
    "    \n",
    "    def optimize(self,\n",
    "                objectiveFunction,\n",
    "                numIterations = maxFunctionCalls):\n",
    "        bestX = None\n",
    "        bestY = -float(\"inf\")\n",
    "        for i in range(numIterations):\n",
    "            newX = self.generateRandomHypothesis()\n",
    "            newY = objectiveFunction(newX)\n",
    "            if newY > bestY:\n",
    "                bestX = newX\n",
    "                bestY = newY\n",
    "        return(bestX)\n",
    "rs = RandomSearch(ranges)\n",
    "bestX = rs.optimize(griewank)\n",
    "print(griewank(bestX))"
   ]
  },
  {
   "cell_type": "markdown",
   "id": "0d0b9087-03ab-45cb-9520-eb5e7c4dc3f0",
   "metadata": {},
   "source": [
    "## Simulated Annealing"
   ]
  },
  {
   "cell_type": "markdown",
   "id": "0574fc01-00dc-4861-adf9-7f9b68ee8066",
   "metadata": {},
   "source": [
    "And of course our main competition, simulated annealing"
   ]
  },
  {
   "cell_type": "code",
   "execution_count": 4,
   "id": "a237610a-10da-4fb8-a3ab-7c35c058c9d0",
   "metadata": {},
   "outputs": [
    {
     "name": "stdout",
     "output_type": "stream",
     "text": [
      "-3045.4429570820716\n"
     ]
    }
   ],
   "source": [
    "class SimulatedAnnealing:\n",
    "    def __init__(\n",
    "        self,\n",
    "        ranges\n",
    "    ):\n",
    "        self.ranges = ranges\n",
    "    \n",
    "    def optimize(self, objectiveFunction, lastX = [], numIterations = maxFunctionCalls, standardDeviation = 0.1, coolingFactor = 0.99):\n",
    "        currentX = lastX\n",
    "        while len(currentX) == 0:\n",
    "            currentX = [r.uniform(c[0], c[1]) for c in ranges]\n",
    "        currentY = objectiveFunction(currentX)\n",
    "        heat = 1\n",
    "        for i in range(numIterations):\n",
    "            heat = heat * coolingFactor\n",
    "            newX = [r.gauss(x, standardDeviation) for x in currentX]\n",
    "            newY = objectiveFunction(newX)\n",
    "            if newY > currentY:\n",
    "                currentY = newY\n",
    "                currentX = newX\n",
    "            else:\n",
    "                prob = r.uniform(0, 1)\n",
    "                if prob > np.e ** -(currentY - newY)/(heat + (10 ** -10)):\n",
    "                    currentY = newY\n",
    "                    currentX = newX\n",
    "        return(currentX)\n",
    "\n",
    "sa = SimulatedAnnealing(ranges)\n",
    "bestX = sa.optimize(griewank)\n",
    "print(griewank(bestX))"
   ]
  },
  {
   "cell_type": "markdown",
   "id": "00ee52e0-508e-464a-bf56-1818fda59a95",
   "metadata": {},
   "source": [
    "## Tunnelling Optimizer"
   ]
  },
  {
   "cell_type": "markdown",
   "id": "c8acedb3-107b-4162-83b1-ca8cb726c958",
   "metadata": {},
   "source": [
    "Here's the fun part, where we test Secretary Optimization and compare to the other algorithms."
   ]
  },
  {
   "cell_type": "code",
   "execution_count": 5,
   "id": "5ac23b21-ac1f-4ffb-b131-7bfa79918b5f",
   "metadata": {},
   "outputs": [
    {
     "name": "stdout",
     "output_type": "stream",
     "text": [
      "-324.59059453076793\n"
     ]
    }
   ],
   "source": [
    "class TunnellingOptimizer:\n",
    "    def __init__(\n",
    "        self,\n",
    "        ranges\n",
    "    ):\n",
    "        self.ranges = ranges\n",
    "    \n",
    "    def optimize(self, objectiveFunction, lastX = [], numIterations = maxFunctionCalls, standardDeviation = 10 ** -3, fieldStrength = 1.01):\n",
    "        ranges = self.ranges\n",
    "        dTerm = (ranges[0][1] - ranges[0][0]) * (len(ranges) ** 0.5) * ((6) ** 0.5)\n",
    "        currentX = lastX\n",
    "        while len(currentX) == 0:\n",
    "            currentX = [r.uniform(c[0], c[1]) for c in ranges]\n",
    "        currentY = objectiveFunction(currentX)\n",
    "        currentField = 1\n",
    "        for i in range(numIterations):\n",
    "            newX = [r.gauss(x, currentField * standardDeviation * dTerm) for x in currentX]\n",
    "            newY = objectiveFunction(newX)\n",
    "            if newY >= currentY:\n",
    "                currentY = newY\n",
    "                currentX = newX\n",
    "                currentField = 1\n",
    "            else:\n",
    "                currentField = currentField * fieldStrength\n",
    "        return(currentX)\n",
    "\n",
    "ta = TunnellingOptimizer(ranges)\n",
    "bestX = ta.optimize(griewank)\n",
    "print(griewank(bestX))"
   ]
  },
  {
   "cell_type": "code",
   "execution_count": null,
   "id": "b265a2e4-289e-4cc8-9238-21719d7434c2",
   "metadata": {},
   "outputs": [],
   "source": []
  }
 ],
 "metadata": {
  "kernelspec": {
   "display_name": "Python 3 (ipykernel)",
   "language": "python",
   "name": "python3"
  },
  "language_info": {
   "codemirror_mode": {
    "name": "ipython",
    "version": 3
   },
   "file_extension": ".py",
   "mimetype": "text/x-python",
   "name": "python",
   "nbconvert_exporter": "python",
   "pygments_lexer": "ipython3",
   "version": "3.10.16"
  }
 },
 "nbformat": 4,
 "nbformat_minor": 5
}
